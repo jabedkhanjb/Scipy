{
 "cells": [
  {
   "cell_type": "markdown",
   "id": "81c990ae",
   "metadata": {},
   "source": [
    "# What is Sparse Data\n",
    "\n",
    "Sparse data is data that has mostly unused elements (elements that don't carry any information ).\n",
    "\n",
    "It can be an array like this one:\n",
    "\n",
    "[1, 0, 2, 0, 0, 3, 0, 0, 0, 0, 0, 0]"
   ]
  },
  {
   "cell_type": "markdown",
   "id": "0044c78b",
   "metadata": {},
   "source": [
    "<b>Sparse Data:</b> is a data set where most of the item values are zero.\n",
    "\n",
    "<b>Dense Array:</b> is the opposite of a sparse array: most of the values are not zero."
   ]
  },
  {
   "cell_type": "markdown",
   "id": "25521cdc",
   "metadata": {},
   "source": [
    "# How to Work With Sparse Data\n",
    "\n",
    "SciPy has a module, <b>scipy.sparse</b> that provides functions to deal with sparse data.\n",
    "\n",
    "There are primarily two types of sparse matrices that we use:\n",
    "\n",
    "<b>CSC</b> - Compressed Sparse Column. For efficient arithmetic, fast column slicing.\n",
    "\n",
    "<b>CSR</b> - Compressed Sparse Row. For fast row slicing, faster matrix vector products\n",
    "\n",
    "We will use the CSR matrix in this tutorial."
   ]
  },
  {
   "cell_type": "markdown",
   "id": "50036329",
   "metadata": {},
   "source": [
    "# CSR Matrix\n",
    "\n",
    "We can create CSR matrix by passing an arrray into function <b>scipy.sparse.csr_matrix()</b>"
   ]
  },
  {
   "cell_type": "code",
   "execution_count": 1,
   "id": "df33c7f1",
   "metadata": {},
   "outputs": [],
   "source": [
    "import numpy as np\n",
    "from scipy.sparse import csr_matrix"
   ]
  },
  {
   "cell_type": "code",
   "execution_count": 2,
   "id": "ec091231",
   "metadata": {},
   "outputs": [],
   "source": [
    "arr = np.array([0,0,0,0,0,1,1,0,2])"
   ]
  },
  {
   "cell_type": "code",
   "execution_count": 4,
   "id": "bc42b618",
   "metadata": {},
   "outputs": [
    {
     "name": "stdout",
     "output_type": "stream",
     "text": [
      "  (0, 5)\t1\n",
      "  (0, 6)\t1\n",
      "  (0, 8)\t2\n"
     ]
    }
   ],
   "source": [
    "print(csr_matrix(arr))"
   ]
  },
  {
   "cell_type": "markdown",
   "id": "377562d0",
   "metadata": {},
   "source": [
    "\n",
    "\n",
    "From the result we can see that there are 3 items with value.\n",
    "\n",
    "The 1. item is in row 0 position 5 and has the value 1.\n",
    "\n",
    "The 2. item is in row 0 position 6 and has the value 1.\n",
    "\n",
    "The 3. item is in row 0 position 8 and has the value 2.\n"
   ]
  },
  {
   "cell_type": "markdown",
   "id": "93a62593",
   "metadata": {},
   "source": [
    "# Sparse Matrix Methods\n",
    "\n",
    "Viewing stored data (not the zero items) with the <b>data</b> property:"
   ]
  },
  {
   "cell_type": "code",
   "execution_count": 8,
   "id": "6852e4a3",
   "metadata": {},
   "outputs": [],
   "source": [
    "arr = np.array([[0,0,0],[0,0,1],[1,0,2]])"
   ]
  },
  {
   "cell_type": "code",
   "execution_count": 9,
   "id": "d21222fb",
   "metadata": {},
   "outputs": [
    {
     "name": "stdout",
     "output_type": "stream",
     "text": [
      "  (1, 2)\t1\n",
      "  (2, 0)\t1\n",
      "  (2, 2)\t2\n"
     ]
    }
   ],
   "source": [
    "print(csr_matrix(arr))"
   ]
  },
  {
   "cell_type": "markdown",
   "id": "1290ee12",
   "metadata": {},
   "source": [
    "Counting nonzeros with the <b>count_nonzero()</b> method:"
   ]
  },
  {
   "cell_type": "code",
   "execution_count": 10,
   "id": "a317ca72",
   "metadata": {},
   "outputs": [
    {
     "name": "stdout",
     "output_type": "stream",
     "text": [
      "3\n"
     ]
    }
   ],
   "source": [
    "print(csr_matrix(arr).count_nonzero())"
   ]
  },
  {
   "cell_type": "markdown",
   "id": "bf0816ba",
   "metadata": {},
   "source": [
    "Removing zero-entries from the matrix with the <b>eliminate_zeros()</b> method:"
   ]
  },
  {
   "cell_type": "code",
   "execution_count": 25,
   "id": "65f6df86",
   "metadata": {},
   "outputs": [],
   "source": [
    "import numpy as np\n",
    "from scipy.sparse import csr_matrix\n",
    "\n",
    "arr = np.array([[0, 0, 0], [0, 0, 1], [1, 0, 2]])"
   ]
  },
  {
   "cell_type": "code",
   "execution_count": 26,
   "id": "21abf73f",
   "metadata": {},
   "outputs": [
    {
     "name": "stdout",
     "output_type": "stream",
     "text": [
      "  (1, 2)\t1\n",
      "  (2, 0)\t1\n",
      "  (2, 2)\t2\n"
     ]
    }
   ],
   "source": [
    "mat = csr_matrix(arr)\n",
    "mat.eliminate_zeros()\n",
    "print(mat)"
   ]
  },
  {
   "cell_type": "markdown",
   "id": "9ed18862",
   "metadata": {},
   "source": [
    "Eliminating duplicate entries with the <b>sum_duplicates()</b> method:"
   ]
  },
  {
   "cell_type": "code",
   "execution_count": 28,
   "id": "d6875c89",
   "metadata": {},
   "outputs": [
    {
     "name": "stdout",
     "output_type": "stream",
     "text": [
      "  (1, 2)\t1\n",
      "  (2, 0)\t1\n",
      "  (2, 2)\t2\n"
     ]
    }
   ],
   "source": [
    "mat.sum_duplicates()\n",
    "print(mat)"
   ]
  },
  {
   "cell_type": "markdown",
   "id": "970d98b5",
   "metadata": {},
   "source": [
    "Converting from csr to csc with the <b>tocsc()</b> method:"
   ]
  },
  {
   "cell_type": "code",
   "execution_count": null,
   "id": "f016d72c",
   "metadata": {},
   "outputs": [],
   "source": [
    "newarr = csr_m"
   ]
  }
 ],
 "metadata": {
  "kernelspec": {
   "display_name": "Python 3 (ipykernel)",
   "language": "python",
   "name": "python3"
  },
  "language_info": {
   "codemirror_mode": {
    "name": "ipython",
    "version": 3
   },
   "file_extension": ".py",
   "mimetype": "text/x-python",
   "name": "python",
   "nbconvert_exporter": "python",
   "pygments_lexer": "ipython3",
   "version": "3.9.13"
  }
 },
 "nbformat": 4,
 "nbformat_minor": 5
}
