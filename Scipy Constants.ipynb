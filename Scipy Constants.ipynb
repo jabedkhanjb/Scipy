{
 "cells": [
  {
   "cell_type": "markdown",
   "id": "47af28ce",
   "metadata": {},
   "source": [
    "# Constants in SciPy\n",
    "\n",
    "As SciPy is more focused on scientific implementations, it provides many built-in scientific constants.\n",
    "\n",
    "These constants can be helpful when you are working with Data Science."
   ]
  },
  {
   "cell_type": "code",
   "execution_count": 1,
   "id": "2ce3d1ad",
   "metadata": {},
   "outputs": [
    {
     "name": "stdout",
     "output_type": "stream",
     "text": [
      "3.141592653589793\n"
     ]
    }
   ],
   "source": [
    "from scipy import constants\n",
    "\n",
    "print(constants.pi)"
   ]
  },
  {
   "cell_type": "markdown",
   "id": "a3198c88",
   "metadata": {},
   "source": [
    "# Unit Categories\n",
    "\n",
    "The units are placed under these categories:\n",
    "\n",
    "    Metric\n",
    "    Binary\n",
    "    Mass\n",
    "    Angle\n",
    "    Time\n",
    "    Length\n",
    "    Pressure\n",
    "    Volume\n",
    "    Speed\n",
    "    Temperature\n",
    "    Energy\n",
    "    Power\n",
    "    Force\n"
   ]
  },
  {
   "cell_type": "markdown",
   "id": "35aa4e45",
   "metadata": {},
   "source": [
    "# Metric (SI) Prefixes:\n",
    "\n",
    "Return the specified unit in meter (e.g. centi returns 0.01"
   ]
  },
  {
   "cell_type": "code",
   "execution_count": 3,
   "id": "c4e9f9c6",
   "metadata": {},
   "outputs": [
    {
     "name": "stdout",
     "output_type": "stream",
     "text": [
      "1e+24\n",
      "1e+21\n",
      "1e+18\n",
      "1000000000000000.0\n",
      "1000000000000.0\n",
      "1000000000.0\n",
      "1000000.0\n",
      "1000.0\n",
      "100.0\n",
      "10.0\n",
      "0.1\n",
      "0.01\n",
      "0.001\n",
      "1e-06\n",
      "1e-09\n",
      "1e-12\n",
      "1e-15\n",
      "1e-18\n",
      "1e-21\n"
     ]
    }
   ],
   "source": [
    "print(constants.yotta)    #1e+24\n",
    "print(constants.zetta)    #1e+21\n",
    "print(constants.exa)      #1e+18\n",
    "print(constants.peta)     #1000000000000000.0\n",
    "print(constants.tera)     #1000000000000.0\n",
    "print(constants.giga)     #1000000000.0\n",
    "print(constants.mega)     #1000000.0\n",
    "print(constants.kilo)     #1000.0\n",
    "print(constants.hecto)    #100.0\n",
    "print(constants.deka)     #10.0\n",
    "print(constants.deci)     #0.1\n",
    "print(constants.centi)    #0.01\n",
    "print(constants.milli)    #0.001\n",
    "print(constants.micro)    #1e-06\n",
    "print(constants.nano)     #1e-09\n",
    "print(constants.pico)     #1e-12\n",
    "print(constants.femto)    #1e-15\n",
    "print(constants.atto)     #1e-18\n",
    "print(constants.zepto)    #1e-21 "
   ]
  },
  {
   "cell_type": "markdown",
   "id": "e4dde892",
   "metadata": {},
   "source": [
    "# Binary Prefixes:\n",
    "\n",
    "Return the specified unit in bytes (e.g. kibi returns 1024)"
   ]
  },
  {
   "cell_type": "code",
   "execution_count": 4,
   "id": "e2483f01",
   "metadata": {},
   "outputs": [
    {
     "name": "stdout",
     "output_type": "stream",
     "text": [
      "1024\n",
      "1048576\n",
      "1073741824\n",
      "1099511627776\n",
      "1125899906842624\n",
      "1152921504606846976\n",
      "1180591620717411303424\n",
      "1208925819614629174706176\n"
     ]
    }
   ],
   "source": [
    "from scipy import constants\n",
    "\n",
    "print(constants.kibi)    #1024\n",
    "print(constants.mebi)    #1048576\n",
    "print(constants.gibi)    #1073741824\n",
    "print(constants.tebi)    #1099511627776\n",
    "print(constants.pebi)    #1125899906842624\n",
    "print(constants.exbi)    #1152921504606846976\n",
    "print(constants.zebi)    #1180591620717411303424\n",
    "print(constants.yobi)    #1208925819614629174706176"
   ]
  },
  {
   "cell_type": "markdown",
   "id": "48a28d9c",
   "metadata": {},
   "source": [
    "# Time:\n",
    "\n",
    "Return the specified unit in seconds (e.g. hour returns 3600.0)"
   ]
  },
  {
   "cell_type": "code",
   "execution_count": 9,
   "id": "c96b1c1e",
   "metadata": {},
   "outputs": [
    {
     "name": "stdout",
     "output_type": "stream",
     "text": [
      "60.0\n",
      "3600.0\n",
      "86400.0\n",
      "604800.0\n",
      "31536000.0\n",
      "31557600.0\n"
     ]
    }
   ],
   "source": [
    "from scipy import constants\n",
    "\n",
    "print(constants.minute)      #60.0\n",
    "print(constants.hour)        #3600.0\n",
    "print(constants.day)         #86400.0\n",
    "print(constants.week)        #604800.0\n",
    "print(constants.year)        #31536000.0\n",
    "print(constants.Julian_year) #31557600.0 "
   ]
  },
  {
   "cell_type": "markdown",
   "id": "812333c9",
   "metadata": {},
   "source": [
    "# Area:\n",
    "\n",
    "Return the specified unit in square meters(e.g. hectare returns 10000.0)"
   ]
  },
  {
   "cell_type": "code",
   "execution_count": 10,
   "id": "0602d460",
   "metadata": {},
   "outputs": [
    {
     "name": "stdout",
     "output_type": "stream",
     "text": [
      "10000.0\n",
      "4046.8564223999992\n"
     ]
    }
   ],
   "source": [
    "print(constants.hectare) #10000.0\n",
    "print(constants.acre)    #4046.8564223999992 "
   ]
  },
  {
   "cell_type": "markdown",
   "id": "90b22eeb",
   "metadata": {},
   "source": [
    "# Volume:\n",
    "\n",
    "Return the specified unit in cubic meters (e.g. liter returns 0.001)"
   ]
  },
  {
   "cell_type": "code",
   "execution_count": 11,
   "id": "aacbdf2a",
   "metadata": {},
   "outputs": [
    {
     "name": "stdout",
     "output_type": "stream",
     "text": [
      "0.001\n",
      "0.001\n",
      "0.0037854117839999997\n",
      "0.0037854117839999997\n",
      "0.00454609\n",
      "2.9573529562499998e-05\n",
      "2.9573529562499998e-05\n",
      "2.84130625e-05\n",
      "0.15898729492799998\n",
      "0.15898729492799998\n"
     ]
    }
   ],
   "source": [
    "from scipy import constants\n",
    "\n",
    "print(constants.liter)            #0.001\n",
    "print(constants.litre)            #0.001\n",
    "print(constants.gallon)           #0.0037854117839999997\n",
    "print(constants.gallon_US)        #0.0037854117839999997\n",
    "print(constants.gallon_imp)       #0.00454609\n",
    "print(constants.fluid_ounce)      #2.9573529562499998e-05\n",
    "print(constants.fluid_ounce_US)   #2.9573529562499998e-05\n",
    "print(constants.fluid_ounce_imp)  #2.84130625e-05\n",
    "print(constants.barrel)           #0.15898729492799998\n",
    "print(constants.bbl)              #0.15898729492799998 "
   ]
  },
  {
   "cell_type": "markdown",
   "id": "66ea81f1",
   "metadata": {},
   "source": [
    "# Speed:\n",
    "\n",
    "Return the specified unit in meters per second (e.g. speed_of_sound returns 340.5)"
   ]
  },
  {
   "cell_type": "code",
   "execution_count": 12,
   "id": "6798bcaa",
   "metadata": {},
   "outputs": [
    {
     "name": "stdout",
     "output_type": "stream",
     "text": [
      "0.2777777777777778\n",
      "0.44703999999999994\n",
      "340.5\n",
      "340.5\n",
      "0.5144444444444445\n"
     ]
    }
   ],
   "source": [
    "from scipy import constants\n",
    "\n",
    "print(constants.kmh)            #0.2777777777777778\n",
    "print(constants.mph)            #0.44703999999999994\n",
    "print(constants.mach)           #340.5\n",
    "print(constants.speed_of_sound) #340.5\n",
    "print(constants.knot)           #0.5144444444444445 "
   ]
  },
  {
   "cell_type": "markdown",
   "id": "79c9406d",
   "metadata": {},
   "source": [
    "# Temperature:\n",
    "\n",
    "Return the specified unit in Kelvin (e.g. zero_Celsius returns 273.15)"
   ]
  },
  {
   "cell_type": "code",
   "execution_count": 13,
   "id": "0a178a9c",
   "metadata": {},
   "outputs": [
    {
     "name": "stdout",
     "output_type": "stream",
     "text": [
      "273.15\n",
      "0.5555555555555556\n"
     ]
    }
   ],
   "source": [
    "from scipy import constants\n",
    "\n",
    "print(constants.zero_Celsius)      #273.15\n",
    "print(constants.degree_Fahrenheit) #0.5555555555555556 "
   ]
  },
  {
   "cell_type": "code",
   "execution_count": null,
   "id": "75718edc",
   "metadata": {},
   "outputs": [],
   "source": []
  }
 ],
 "metadata": {
  "kernelspec": {
   "display_name": "Python 3 (ipykernel)",
   "language": "python",
   "name": "python3"
  },
  "language_info": {
   "codemirror_mode": {
    "name": "ipython",
    "version": 3
   },
   "file_extension": ".py",
   "mimetype": "text/x-python",
   "name": "python",
   "nbconvert_exporter": "python",
   "pygments_lexer": "ipython3",
   "version": "3.9.13"
  }
 },
 "nbformat": 4,
 "nbformat_minor": 5
}
